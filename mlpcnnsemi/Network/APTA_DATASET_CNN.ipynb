{
 "cells": [
  {
   "cell_type": "code",
   "execution_count": 2,
   "metadata": {},
   "outputs": [
    {
     "name": "stdout",
     "output_type": "stream",
     "text": [
      "You have imported API Package!\n"
     ]
    },
    {
     "name": "stderr",
     "output_type": "stream",
     "text": [
      "c:\\ProgramData\\Anaconda3\\lib\\site-packages\\pandas\\compat\\_optional.py:138: UserWarning: Pandas requires version '2.7.0' or newer of 'numexpr' (version '2.6.9' currently installed).\n",
      "  warnings.warn(msg, UserWarning)\n"
     ]
    }
   ],
   "source": [
    "import torch \n",
    "import torch.optim as optim\n",
    "from torch.utils.data import DataLoader\n",
    "from tqdm import tqdm\n",
    "from API_utils.dataset_api import API_Class"
   ]
  },
  {
   "cell_type": "code",
   "execution_count": 11,
   "metadata": {},
   "outputs": [],
   "source": [
    "DATASET_PATH = \"Z:/mlpcnnsemi/dataset/64train_dataset.csv\"\n",
    "TEST_DATASET_PATH = \"Z:/mlpcnnsemi/dataset/64test_dataset.csv\"\n",
    "SAVE_MODEL_PATH = \"Z:/mlpcnnsemi/model/cnn/64\"\n",
    "DEVICE= torch.device(\"cuda:0\" if torch.cuda.is_available() else \"cpu\")\n",
    "EPOCH = 100\n",
    "lr=0.0001"
   ]
  },
  {
   "cell_type": "code",
   "execution_count": 12,
   "metadata": {},
   "outputs": [],
   "source": [
    "train_data = API_Class(DATASET_PATH)\n",
    "test_data = API_Class(TEST_DATASET_PATH)"
   ]
  },
  {
   "cell_type": "code",
   "execution_count": 4,
   "metadata": {},
   "outputs": [],
   "source": [
    "#csx single input\n",
    "import numpy as np\n",
    "\n",
    "import torch\n",
    "import torch.nn as nn\n",
    "import torch.nn.functional as F\n",
    "import torch.optim as optim\n",
    "\n",
    "class NeuralNet(nn.Module):\n",
    "    def __init__(self, lrate = 0.0001, loss_fn = nn.CrossEntropyLoss()):\n",
    "        super(NeuralNet, self).__init__()\n",
    "        self.conv0 = nn.Sequential(nn.BatchNorm1d(1),\n",
    "                                    nn.ReLU()\n",
    "        )\n",
    "\n",
    "        self.conv1 = nn.Sequential(nn.Conv1d(1,4,kernel_size=1),\n",
    "                                   nn.BatchNorm1d(4),\n",
    "                                   nn.ReLU()\n",
    "        )\n",
    "\n",
    "\n",
    "        self.conv2 = nn.Sequential(nn.Conv1d(4,16,kernel_size=1),\n",
    "                                   nn.BatchNorm1d(16),\n",
    "                                   nn.ReLU()\n",
    "        )\n",
    "\n",
    "        self.conv3 = nn.Sequential(nn.Conv1d(16,8,kernel_size=2,stride=2),\n",
    "                                   nn.BatchNorm1d(8),\n",
    "                    \n",
    "                                   nn.ReLU()\n",
    "        )\n",
    "        self.conv4 = nn.Sequential(nn.Conv1d(8,4,kernel_size=2,stride=2),\n",
    "                                   nn.BatchNorm1d(4),\n",
    "                                   \n",
    "                                   nn.ReLU()\n",
    "        )\n",
    "        self.conv5 = nn.Sequential(nn.Conv1d(4,1,kernel_size=2,stride=2),\n",
    "                                   nn.BatchNorm1d(1),\n",
    "                                   \n",
    "                                   nn.ReLU()\n",
    "        )\n",
    "\n",
    "\n",
    "        self.conv6 = nn.Linear(80,16)\n",
    "        self.conv7 = nn.Linear(16,2)\n",
    "\n",
    "        # self.conv1=nn.Conv1d(1, 1, kernel_size=3, stride=1, padding=0, dilation=1, groups=1, bias=True)\n",
    "        # self.batchnorm=nn.BatchNorm1d(num_features=1),\n",
    "        # self.Relu=nn.ReLU()\n",
    "        # self.pool=nn.MaxPool1d(kernel_size=3)\n",
    "        # self.fc1=nn.Linear(64*4*4, 64)\n",
    "        # self.dropout=nn.Dropout()\n",
    "        # self.fc2 = nn.Linear(64, 10)\n",
    "\n",
    "        self.loss_fn = loss_fn\n",
    "        self.lrate=lrate        \n",
    "        self.optimizer=optim.SGD(self.parameters(),self.lrate,momentum=0.9)\n",
    "    def forward(self, input):\n",
    "        \"\"\"Performs a forward pass through your neural net (evaluates f(x)).\n",
    "\n",
    "        @param x: an (N, in_size) Tensor\n",
    "        @return y: an (N, out_size) Tensor of output from the network\n",
    "        \"\"\"\n",
    "        '''\n",
    "        extractor for protein \n",
    "        '''\n",
    "        input = self.conv0(input)\n",
    "        input = self.conv1(input)\n",
    "        input= self.conv2(input)\n",
    "\n",
    "        input= self.conv3(input)\n",
    "        \n",
    "        input = self.conv4(input)\n",
    "        # print(input.shape)\n",
    "        input = self.conv5(input)\n",
    "        # print(input.shape)\n",
    "        input = self.conv6(input)\n",
    "        input = self.conv7(input)\n",
    "        # print(input.shape)\n",
    "        input= torch.squeeze(input,dim=0)\n",
    "        return input\n",
    "\n",
    "\n",
    "\n",
    "       \n",
    "        # x = self.pool(F.relu(self.conv1(x)))\n",
    "        # x = self.pool(F.relu(self.conv2(x)))\n",
    "        # x = self.pool(F.relu(self.conv3(x)))\n",
    "        # x = torch.flatten(x, 1) # flatten all dimensions except batch      \n",
    "        # print(x.shape)\n",
    "        # x = F.relu(self.fc1(x))\n",
    "        # x = F.relu(self.fc2(x))\n",
    "        # y = F.relu(self.fc3(x))        \n",
    "        # return y\n",
    "        # #return torch.ones(x.shape[0], 1)\n",
    "\n",
    "\n"
   ]
  },
  {
   "cell_type": "code",
   "execution_count": 13,
   "metadata": {},
   "outputs": [],
   "source": [
    "#double input\n",
    "import numpy as np\n",
    "\n",
    "import torch\n",
    "import torch.nn as nn\n",
    "import torch.nn.functional as F\n",
    "import torch.optim as optim\n",
    "\n",
    "class NeuralNet(nn.Module):\n",
    "    def __init__(self, lrate = 0.001, loss_fn = nn.CrossEntropyLoss()):\n",
    "        super(NeuralNet, self).__init__()\n",
    "\n",
    "\n",
    "        self.conv1 = nn.Sequential(nn.Conv1d(1,8,kernel_size=1),\n",
    "                                   nn.BatchNorm1d(8),\n",
    "                                   nn.LeakyReLU()\n",
    "        )\n",
    "        self.conv2 = nn.Sequential(nn.Conv1d(8,16,kernel_size=1),\n",
    "                                   nn.BatchNorm1d(16),\n",
    "                                   nn.LeakyReLU()\n",
    "        )\n",
    "        self.conv3 = nn.Sequential(nn.Conv1d(1,8,kernel_size=3,stride=2),\n",
    "                                   nn.BatchNorm1d(8),\n",
    "                                   nn.LeakyReLU()\n",
    "        )\n",
    "        self.conv4 = nn.Sequential(nn.Conv1d(8,16,kernel_size=3,stride=2),\n",
    "                                   nn.BatchNorm1d(16),\n",
    "                                   nn.LeakyReLU()\n",
    "        )\n",
    "\n",
    "        self.conv5 = nn.Sequential(nn.Conv1d(16,8,kernel_size=3,stride=2),\n",
    "                                   nn.BatchNorm1d(8),\n",
    "                                   nn.MaxPool1d(kernel_size=2),\n",
    "                                   nn.LeakyReLU()\n",
    "        )\n",
    "        self.conv6 = nn.Sequential(nn.Conv1d(8,1,kernel_size=3,stride=2),\n",
    "                                   nn.BatchNorm1d(1),\n",
    "                                   nn.MaxPool1d(kernel_size=2),\n",
    "                                   nn.LeakyReLU()\n",
    "        )\n",
    "\n",
    "        self.conv7 = nn.Linear(25,10)\n",
    "        self.conv8 = nn.Linear(10,2)\n",
    "\n",
    "        # self.conv1=nn.Conv1d(1, 1, kernel_size=3, stride=1, padding=0, dilation=1, groups=1, bias=True)\n",
    "        # self.batchnorm=nn.BatchNorm1d(num_features=1),\n",
    "        # self.Relu=nn.ReLU()\n",
    "        # self.pool=nn.MaxPool1d(kernel_size=3)\n",
    "        # self.fc1=nn.Linear(64*4*4, 64)\n",
    "        # self.dropout=nn.Dropout()\n",
    "        # self.fc2 = nn.Linear(64, 10)\n",
    "\n",
    "        self.loss_fn = loss_fn\n",
    "        self.lrate=lrate        \n",
    "        self.optimizer=optim.SGD(self.parameters(),self.lrate,momentum=0.9)\n",
    "    def forward(self, rna, protein):\n",
    "        \"\"\"Performs a forward pass through your neural net (evaluates f(x)).\n",
    "\n",
    "        @param x: an (N, in_size) Tensor\n",
    "        @return y: an (N, out_size) Tensor of output from the network\n",
    "        \"\"\"\n",
    "        '''\n",
    "        extractor for protein \n",
    "        '''\n",
    "        \n",
    "        rna = self.conv1(rna)\n",
    "        rna = self.conv2(rna)\n",
    "\n",
    "        protein = self.conv3(protein)\n",
    "        \n",
    "        protein = self.conv4(protein)\n",
    "\n",
    "        x = torch.cat((rna,protein),dim=2)\n",
    "        x = self.conv5(x)\n",
    "        x = self.conv6(x)\n",
    "        # print(x.shape)\n",
    "        x = self.conv7(x)\n",
    "        x = self.conv8(x)\n",
    "        x = torch.squeeze(x,dim=0)\n",
    "        return x"
   ]
  },
  {
   "cell_type": "code",
   "execution_count": 14,
   "metadata": {},
   "outputs": [],
   "source": [
    "\n",
    "train_data_loader = DataLoader(train_data,batch_size=1,shuffle=True)\n",
    "test_data_loader = DataLoader(test_data,batch_size=1,shuffle=True)\n",
    "Net = NeuralNet().to(DEVICE)\n",
    "optimizer = optim.Adam(params=Net.parameters(),lr=lr)\n",
    "loss_fn = nn.CrossEntropyLoss()\n"
   ]
  },
  {
   "cell_type": "code",
   "execution_count": 6,
   "metadata": {},
   "outputs": [],
   "source": [
    "#single input\n",
    "def evaluate(model_path,test_data_loader,device=DEVICE):\n",
    "    # count=0\n",
    "    # acc = 0\n",
    "    tp=0\n",
    "    tn=0\n",
    "    fp=0\n",
    "    fn=0\n",
    "    model = torch.load(model_path)\n",
    "    for idx, data in enumerate(test_data_loader):\n",
    "        api_input, api_label = data\n",
    "        # count+=1\n",
    "        # rna_input = api_input[:,1:341]\n",
    "        # protein_input = api_input[:,341:641]\n",
    "        # rna_input = torch.unsqueeze(rna_input,dim=0)\n",
    "        # protein_input = torch.unsqueeze(protein_input,dim=0)\n",
    "        # #api_label = torch.unsqueeze(api_label,dim=0)\n",
    "        # rna_input = rna_input.to(dtype=torch.float32).to(DEVICE)\n",
    "        # protein_input = protein_input.to(dtype=torch.float32).to(DEVICE)\n",
    "\n",
    "        api_input = torch.unsqueeze(api_input,dim=0)\n",
    "        api_input = api_input.to(dtype=torch.float32).to(DEVICE)\n",
    "        output = model(api_input).to(DEVICE)\n",
    "        if(torch.argmax(output)==api_label[0] and api_label[0]==0):\n",
    "            tn+=1\n",
    "        elif(torch.argmax(output)==api_label[0] and api_label[0]==1):\n",
    "            tp+=1\n",
    "        elif(torch.argmax(output)!=api_label[0] and api_label[0]==1):   \n",
    "            fn+=1\n",
    "        elif(torch.argmax(output)!=api_label[0] and api_label[0]==0):\n",
    "            fp+=1       \n",
    "\n",
    "    Accuracy=(tp+tn+2)/(tp+tn+fn+fp+4)\n",
    "    P = (tp+1)/ (tp+fp+2)\n",
    "    R = (tp+1)/ (tp+fn+2)\n",
    "    print(Accuracy)\n",
    "    return Accuracy,P,R"
   ]
  },
  {
   "cell_type": "code",
   "execution_count": 15,
   "metadata": {},
   "outputs": [],
   "source": [
    "#double input\n",
    "def evaluate(model_path,test_data_loader,device=DEVICE):\n",
    "    # count=0\n",
    "    # acc = 0\n",
    "    tp=0\n",
    "    tn=0\n",
    "    fp=0\n",
    "    fn=0\n",
    "    model = torch.load(model_path)\n",
    "    for idx, data in enumerate(test_data_loader):\n",
    "        api_input, api_label = data\n",
    "        # count+=1\n",
    "        rna_input = api_input[:,1:341]\n",
    "        protein_input = api_input[:,341:641]\n",
    "        rna_input = torch.unsqueeze(rna_input,dim=0)\n",
    "        protein_input = torch.unsqueeze(protein_input,dim=0)\n",
    "        #api_label = torch.unsqueeze(api_label,dim=0)\n",
    "        rna_input = rna_input.to(dtype=torch.float32).to(DEVICE)\n",
    "        protein_input = protein_input.to(dtype=torch.float32).to(DEVICE)\n",
    "        output = model(rna_input,protein_input).to(DEVICE)\n",
    "        if(torch.argmax(output)==api_label[0] and api_label[0]==0):\n",
    "            tn+=1\n",
    "        elif(torch.argmax(output)==api_label[0] and api_label[0]==1):\n",
    "            tp+=1\n",
    "        elif(torch.argmax(output)!=api_label[0] and api_label[0]==1):   \n",
    "            fn+=1\n",
    "        elif(torch.argmax(output)!=api_label[0] and api_label[0]==0):\n",
    "            fp+=1       \n",
    "\n",
    "    Accuracy=(tp+tn+2)/(tp+tn+fn+fp+4)\n",
    "    P = (tp+1)/ (tp+fp+2)\n",
    "    R = (tp+1)/ (tp+fn+2)\n",
    "    print(Accuracy)\n",
    "    return Accuracy,P,R"
   ]
  },
  {
   "cell_type": "code",
   "execution_count": null,
   "metadata": {},
   "outputs": [],
   "source": [
    "import matplotlib.pyplot as plt\n",
    "loss_list=[]\n",
    "a1_list=[]\n",
    "a2_list=[]\n",
    "p1_list=[]\n",
    "p2_list=[]\n",
    "r1_list=[]\n",
    "r2_list=[]\n",
    "for epoch in range(EPOCH):\n",
    "    x = []#用于存放横坐标\n",
    "    t_loss = []#用于存放train_loss\n",
    "    x0=-1\n",
    "    for data in tqdm(train_data_loader):\n",
    "        # print(data)\n",
    "        x0=x0+1\n",
    "        api_input, api_label = data\n",
    "        \n",
    "        # print(api_label)\n",
    "        # print(api_input)\n",
    "\n",
    "        api_input = api_input.to(DEVICE)\n",
    "        api_label = api_label.to(DEVICE).to(dtype=torch.long)\n",
    "        # rna_input = api_input[:,0:340]\n",
    "        # protein_input = api_input[:,340:640]\n",
    "        # rna_input = torch.unsqueeze(rna_input,dim=0)\n",
    "        # protein_input = torch.unsqueeze(protein_input,dim=0)\n",
    "        # print(protein_input)\n",
    "        # api_label = torch.unsqueeze(api_label,dim=0)\n",
    "        api_input= torch.unsqueeze(api_input,dim=0)\n",
    "        api_input = api_input.to(dtype=torch.float32)\n",
    "        # rna_input = rna_input.to(dtype=torch.float32)\n",
    "        # protein_input = protein_input.to(dtype=torch.float32)\n",
    "        # output = Net(rna_input,protein_input)\n",
    "        output = Net(api_input)\n",
    "        # print(output.shape)\n",
    "        # print(api_label.shape)\n",
    "        # print(output)\n",
    "        # print(api_label)\n",
    "        optimizer.zero_grad()    \n",
    "        Loss = loss_fn(output, api_label)  \n",
    "        x.append(x0)\n",
    "        \n",
    "        # t_loss.append(Loss.detach().numpy())   \n",
    "        t_loss.append(Loss.item())  \n",
    "        Loss.backward()  \n",
    "\n",
    "        optimizer.step() \n",
    "    train_loss_lines = plt.plot(x, t_loss, 'r', lw=5)\n",
    "    loss_list.append(t_loss)\n",
    "    plt.subplot(10,10,epoch+1)\n",
    "    save_path = SAVE_MODEL_PATH+f'oneinput_batch1_Epoch={epoch}_lr={lr}.pth'\n",
    "    torch.save(Net, save_path)\n",
    "    a1,p1,r1=evaluate(SAVE_MODEL_PATH+f'oneinput_batch1_Epoch={epoch}_lr={lr}.pth',train_data_loader)\n",
    "    a2,p2,r2=evaluate(SAVE_MODEL_PATH+f'oneinput_batch1_Epoch={epoch}_lr={lr}.pth',test_data_loader)\n",
    "    a1_list.append(a1)\n",
    "    a2_list.append(a2)\n",
    "    p1_list.append(p1)\n",
    "    p2_list.append(p2)\n",
    "    r1_list.append(r1)\n",
    "    r2_list.append(r2)\n",
    "torch.save(Net, SAVE_MODEL_PATH+f'oneinput_batch1_Epoch={epoch}_lr={lr}_final.pth')"
   ]
  },
  {
   "cell_type": "code",
   "execution_count": 16,
   "metadata": {},
   "outputs": [
    {
     "name": "stderr",
     "output_type": "stream",
     "text": [
      "100%|██████████| 2042/2042 [00:08<00:00, 249.21it/s]\n"
     ]
    },
    {
     "name": "stdout",
     "output_type": "stream",
     "text": [
      "0.749266862170088\n",
      "0.7136894824707847\n"
     ]
    },
    {
     "name": "stderr",
     "output_type": "stream",
     "text": [
      "100%|██████████| 2042/2042 [00:09<00:00, 210.26it/s]\n"
     ]
    },
    {
     "name": "stdout",
     "output_type": "stream",
     "text": [
      "0.7482893450635386\n",
      "0.7128547579298832\n"
     ]
    },
    {
     "name": "stderr",
     "output_type": "stream",
     "text": [
      "100%|██████████| 2042/2042 [00:10<00:00, 203.90it/s]\n"
     ]
    },
    {
     "name": "stdout",
     "output_type": "stream",
     "text": [
      "0.7438905180840665\n",
      "0.7103505843071787\n"
     ]
    },
    {
     "name": "stderr",
     "output_type": "stream",
     "text": [
      "100%|██████████| 2042/2042 [00:10<00:00, 197.79it/s]\n"
     ]
    },
    {
     "name": "stdout",
     "output_type": "stream",
     "text": [
      "0.7262952101661779\n",
      "0.6936560934891486\n"
     ]
    },
    {
     "name": "stderr",
     "output_type": "stream",
     "text": [
      "100%|██████████| 2042/2042 [00:10<00:00, 189.36it/s]\n"
     ]
    },
    {
     "name": "stdout",
     "output_type": "stream",
     "text": [
      "0.7155425219941349\n",
      "0.6702838063439065\n"
     ]
    },
    {
     "name": "stderr",
     "output_type": "stream",
     "text": [
      "100%|██████████| 2042/2042 [00:12<00:00, 163.30it/s]\n"
     ]
    },
    {
     "name": "stdout",
     "output_type": "stream",
     "text": [
      "0.6774193548387096\n",
      "0.6060100166944908\n"
     ]
    },
    {
     "name": "stderr",
     "output_type": "stream",
     "text": [
      "100%|██████████| 2042/2042 [00:11<00:00, 170.17it/s]\n"
     ]
    },
    {
     "name": "stdout",
     "output_type": "stream",
     "text": [
      "0.6588465298142717\n",
      "0.6001669449081803\n"
     ]
    },
    {
     "name": "stderr",
     "output_type": "stream",
     "text": [
      "100%|██████████| 2042/2042 [00:11<00:00, 139.01it/s]\n"
     ]
    },
    {
     "name": "stdout",
     "output_type": "stream",
     "text": [
      "0.604594330400782\n",
      "0.5442404006677797\n"
     ]
    },
    {
     "name": "stderr",
     "output_type": "stream",
     "text": [
      "100%|██████████| 2042/2042 [00:11<00:00, 173.10it/s]\n"
     ]
    },
    {
     "name": "stdout",
     "output_type": "stream",
     "text": [
      "0.6480938416422287\n",
      "0.5742904841402338\n"
     ]
    },
    {
     "name": "stderr",
     "output_type": "stream",
     "text": [
      "100%|██████████| 2042/2042 [00:11<00:00, 170.77it/s]\n"
     ]
    },
    {
     "name": "stdout",
     "output_type": "stream",
     "text": [
      "0.5635386119257088\n",
      "0.5200333889816361\n"
     ]
    },
    {
     "name": "stderr",
     "output_type": "stream",
     "text": [
      "100%|██████████| 2042/2042 [00:11<00:00, 172.36it/s]\n"
     ]
    },
    {
     "name": "stdout",
     "output_type": "stream",
     "text": [
      "0.5586510263929618\n",
      "0.5275459098497496\n"
     ]
    },
    {
     "name": "stderr",
     "output_type": "stream",
     "text": [
      "100%|██████████| 2042/2042 [00:12<00:00, 169.32it/s]\n"
     ]
    },
    {
     "name": "stdout",
     "output_type": "stream",
     "text": [
      "0.5048875855327468\n",
      "0.494991652754591\n"
     ]
    },
    {
     "name": "stderr",
     "output_type": "stream",
     "text": [
      "100%|██████████| 2042/2042 [00:11<00:00, 171.63it/s]\n"
     ]
    },
    {
     "name": "stdout",
     "output_type": "stream",
     "text": [
      "0.4687194525904203\n",
      "0.4716193656093489\n"
     ]
    },
    {
     "name": "stderr",
     "output_type": "stream",
     "text": [
      "100%|██████████| 2042/2042 [00:11<00:00, 171.51it/s]\n"
     ]
    },
    {
     "name": "stdout",
     "output_type": "stream",
     "text": [
      "0.48778103616813295\n",
      "0.48330550918196996\n"
     ]
    },
    {
     "name": "stderr",
     "output_type": "stream",
     "text": [
      "100%|██████████| 2042/2042 [00:12<00:00, 166.58it/s]\n"
     ]
    },
    {
     "name": "stdout",
     "output_type": "stream",
     "text": [
      "0.49608993157380255\n",
      "0.493322203672788\n"
     ]
    },
    {
     "name": "stderr",
     "output_type": "stream",
     "text": [
      "100%|██████████| 2042/2042 [00:12<00:00, 162.37it/s]\n"
     ]
    },
    {
     "name": "stdout",
     "output_type": "stream",
     "text": [
      "0.46236559139784944\n",
      "0.46494156928213687\n"
     ]
    },
    {
     "name": "stderr",
     "output_type": "stream",
     "text": [
      "100%|██████████| 2042/2042 [00:12<00:00, 168.45it/s]\n"
     ]
    },
    {
     "name": "stdout",
     "output_type": "stream",
     "text": [
      "0.4804496578690127\n",
      "0.48330550918196996\n"
     ]
    },
    {
     "name": "stderr",
     "output_type": "stream",
     "text": [
      "100%|██████████| 2042/2042 [00:11<00:00, 175.65it/s]\n"
     ]
    },
    {
     "name": "stdout",
     "output_type": "stream",
     "text": [
      "0.4868035190615836\n",
      "0.48330550918196996\n"
     ]
    },
    {
     "name": "stderr",
     "output_type": "stream",
     "text": [
      "100%|██████████| 2042/2042 [00:12<00:00, 166.98it/s]\n"
     ]
    },
    {
     "name": "stdout",
     "output_type": "stream",
     "text": [
      "0.4965786901270772\n",
      "0.48163606010016696\n"
     ]
    },
    {
     "name": "stderr",
     "output_type": "stream",
     "text": [
      "100%|██████████| 2042/2042 [00:11<00:00, 176.77it/s]\n"
     ]
    },
    {
     "name": "stdout",
     "output_type": "stream",
     "text": [
      "0.48240469208211145\n",
      "0.48163606010016696\n"
     ]
    },
    {
     "name": "stderr",
     "output_type": "stream",
     "text": [
      "100%|██████████| 2042/2042 [00:11<00:00, 172.76it/s]\n"
     ]
    },
    {
     "name": "stdout",
     "output_type": "stream",
     "text": [
      "0.4398826979472141\n",
      "0.4515859766277129\n"
     ]
    },
    {
     "name": "stderr",
     "output_type": "stream",
     "text": [
      "100%|██████████| 2042/2042 [00:11<00:00, 176.27it/s]\n"
     ]
    },
    {
     "name": "stdout",
     "output_type": "stream",
     "text": [
      "0.427663734115347\n",
      "0.44991652754590983\n"
     ]
    },
    {
     "name": "stderr",
     "output_type": "stream",
     "text": [
      "100%|██████████| 2042/2042 [00:11<00:00, 177.29it/s]\n"
     ]
    },
    {
     "name": "stdout",
     "output_type": "stream",
     "text": [
      "0.4310850439882698\n",
      "0.4524207011686144\n"
     ]
    },
    {
     "name": "stderr",
     "output_type": "stream",
     "text": [
      "100%|██████████| 2042/2042 [00:11<00:00, 177.20it/s]\n"
     ]
    },
    {
     "name": "stdout",
     "output_type": "stream",
     "text": [
      "0.4521016617790811\n",
      "0.4524207011686144\n"
     ]
    },
    {
     "name": "stderr",
     "output_type": "stream",
     "text": [
      "100%|██████████| 2042/2042 [00:11<00:00, 176.33it/s]\n"
     ]
    },
    {
     "name": "stdout",
     "output_type": "stream",
     "text": [
      "0.47702834799608995\n",
      "0.4691151919866444\n"
     ]
    },
    {
     "name": "stderr",
     "output_type": "stream",
     "text": [
      "100%|██████████| 2042/2042 [00:11<00:00, 178.56it/s]\n"
     ]
    },
    {
     "name": "stdout",
     "output_type": "stream",
     "text": [
      "0.45405669599217985\n",
      "0.46327212020033387\n"
     ]
    },
    {
     "name": "stderr",
     "output_type": "stream",
     "text": [
      "100%|██████████| 2042/2042 [00:11<00:00, 176.40it/s]\n"
     ]
    },
    {
     "name": "stdout",
     "output_type": "stream",
     "text": [
      "0.4203323558162268\n",
      "0.44741235392320533\n"
     ]
    },
    {
     "name": "stderr",
     "output_type": "stream",
     "text": [
      "100%|██████████| 2042/2042 [00:11<00:00, 175.95it/s]\n"
     ]
    },
    {
     "name": "stdout",
     "output_type": "stream",
     "text": [
      "0.41104594330400784\n",
      "0.4515859766277129\n"
     ]
    },
    {
     "name": "stderr",
     "output_type": "stream",
     "text": [
      "100%|██████████| 2042/2042 [00:11<00:00, 177.83it/s]\n"
     ]
    },
    {
     "name": "stdout",
     "output_type": "stream",
     "text": [
      "0.42961876832844575\n",
      "0.4515859766277129\n"
     ]
    },
    {
     "name": "stderr",
     "output_type": "stream",
     "text": [
      "100%|██████████| 2042/2042 [00:11<00:00, 173.91it/s]\n"
     ]
    },
    {
     "name": "stdout",
     "output_type": "stream",
     "text": [
      "0.4608993157380254\n",
      "0.4674457429048414\n"
     ]
    },
    {
     "name": "stderr",
     "output_type": "stream",
     "text": [
      "100%|██████████| 2042/2042 [00:11<00:00, 180.20it/s]\n"
     ]
    },
    {
     "name": "stdout",
     "output_type": "stream",
     "text": [
      "0.41593352883675466\n",
      "0.4557595993322204\n"
     ]
    },
    {
     "name": "stderr",
     "output_type": "stream",
     "text": [
      "100%|██████████| 2042/2042 [00:11<00:00, 176.22it/s]\n"
     ]
    },
    {
     "name": "stdout",
     "output_type": "stream",
     "text": [
      "0.4335288367546432\n",
      "0.4524207011686144\n"
     ]
    },
    {
     "name": "stderr",
     "output_type": "stream",
     "text": [
      "100%|██████████| 2042/2042 [00:11<00:00, 135.22it/s]\n"
     ]
    },
    {
     "name": "stdout",
     "output_type": "stream",
     "text": [
      "0.4095796676441838\n",
      "0.4373956594323873\n"
     ]
    },
    {
     "name": "stderr",
     "output_type": "stream",
     "text": [
      "100%|██████████| 2042/2042 [00:11<00:00, 176.26it/s]\n"
     ]
    },
    {
     "name": "stdout",
     "output_type": "stream",
     "text": [
      "0.4315738025415445\n",
      "0.4557595993322204\n"
     ]
    },
    {
     "name": "stderr",
     "output_type": "stream",
     "text": [
      "100%|██████████| 2042/2042 [00:11<00:00, 174.63it/s]\n"
     ]
    },
    {
     "name": "stdout",
     "output_type": "stream",
     "text": [
      "0.4291300097751711\n",
      "0.4557595993322204\n"
     ]
    },
    {
     "name": "stderr",
     "output_type": "stream",
     "text": [
      "100%|██████████| 2042/2042 [00:11<00:00, 177.47it/s]\n"
     ]
    },
    {
     "name": "stdout",
     "output_type": "stream",
     "text": [
      "0.43010752688172044\n",
      "0.4532554257095159\n"
     ]
    },
    {
     "name": "stderr",
     "output_type": "stream",
     "text": [
      "100%|██████████| 2042/2042 [00:11<00:00, 174.98it/s]\n"
     ]
    },
    {
     "name": "stdout",
     "output_type": "stream",
     "text": [
      "0.41055718475073316\n",
      "0.44156928213689484\n"
     ]
    },
    {
     "name": "stderr",
     "output_type": "stream",
     "text": [
      "100%|██████████| 2042/2042 [00:11<00:00, 173.32it/s]\n"
     ]
    },
    {
     "name": "stdout",
     "output_type": "stream",
     "text": [
      "0.3924731182795699\n",
      "0.41819699499165275\n"
     ]
    },
    {
     "name": "stderr",
     "output_type": "stream",
     "text": [
      "100%|██████████| 2042/2042 [00:11<00:00, 175.45it/s]\n"
     ]
    },
    {
     "name": "stdout",
     "output_type": "stream",
     "text": [
      "0.39882697947214074\n",
      "0.42153589315525875\n"
     ]
    },
    {
     "name": "stderr",
     "output_type": "stream",
     "text": [
      "100%|██████████| 2042/2042 [00:11<00:00, 190.90it/s]\n"
     ]
    },
    {
     "name": "stdout",
     "output_type": "stream",
     "text": [
      "0.40420332355816224\n",
      "0.4265442404006678\n"
     ]
    },
    {
     "name": "stderr",
     "output_type": "stream",
     "text": [
      "100%|██████████| 2042/2042 [00:11<00:00, 175.25it/s]\n"
     ]
    },
    {
     "name": "stdout",
     "output_type": "stream",
     "text": [
      "0.4281524926686217\n",
      "0.4582637729549249\n"
     ]
    },
    {
     "name": "stderr",
     "output_type": "stream",
     "text": [
      "100%|██████████| 2042/2042 [00:11<00:00, 178.72it/s]\n"
     ]
    },
    {
     "name": "stdout",
     "output_type": "stream",
     "text": [
      "0.40420332355816224\n",
      "0.4282136894824708\n"
     ]
    },
    {
     "name": "stderr",
     "output_type": "stream",
     "text": [
      "100%|██████████| 2042/2042 [00:11<00:00, 177.53it/s]\n"
     ]
    },
    {
     "name": "stdout",
     "output_type": "stream",
     "text": [
      "0.4203323558162268\n",
      "0.4365609348914858\n"
     ]
    },
    {
     "name": "stderr",
     "output_type": "stream",
     "text": [
      "100%|██████████| 2042/2042 [00:11<00:00, 178.84it/s]\n"
     ]
    },
    {
     "name": "stdout",
     "output_type": "stream",
     "text": [
      "0.4222873900293255\n",
      "0.4315525876460768\n"
     ]
    },
    {
     "name": "stderr",
     "output_type": "stream",
     "text": [
      "100%|██████████| 2042/2042 [00:11<00:00, 182.20it/s]\n"
     ]
    },
    {
     "name": "stdout",
     "output_type": "stream",
     "text": [
      "0.40762463343108507\n",
      "0.41652754590984975\n"
     ]
    },
    {
     "name": "stderr",
     "output_type": "stream",
     "text": [
      "100%|██████████| 2042/2042 [00:11<00:00, 152.64it/s]\n"
     ]
    },
    {
     "name": "stdout",
     "output_type": "stream",
     "text": [
      "0.3993157380254154\n",
      "0.42153589315525875\n"
     ]
    },
    {
     "name": "stderr",
     "output_type": "stream",
     "text": [
      "100%|██████████| 2042/2042 [00:11<00:00, 174.94it/s]\n"
     ]
    },
    {
     "name": "stdout",
     "output_type": "stream",
     "text": [
      "0.3890518084066471\n",
      "0.41903171953255425\n"
     ]
    },
    {
     "name": "stderr",
     "output_type": "stream",
     "text": [
      "100%|██████████| 2042/2042 [00:11<00:00, 177.96it/s]\n"
     ]
    },
    {
     "name": "stdout",
     "output_type": "stream",
     "text": [
      "0.4056695992179863\n",
      "0.4265442404006678\n"
     ]
    },
    {
     "name": "stderr",
     "output_type": "stream",
     "text": [
      "100%|██████████| 2042/2042 [00:11<00:00, 175.19it/s]\n"
     ]
    },
    {
     "name": "stdout",
     "output_type": "stream",
     "text": [
      "0.3949169110459433\n",
      "0.4307178631051753\n"
     ]
    },
    {
     "name": "stderr",
     "output_type": "stream",
     "text": [
      "100%|██████████| 2042/2042 [00:11<00:00, 177.27it/s]\n"
     ]
    },
    {
     "name": "stdout",
     "output_type": "stream",
     "text": [
      "0.42179863147605084\n",
      "0.44741235392320533\n"
     ]
    },
    {
     "name": "stderr",
     "output_type": "stream",
     "text": [
      "100%|██████████| 2042/2042 [00:11<00:00, 179.69it/s]\n"
     ]
    },
    {
     "name": "stdout",
     "output_type": "stream",
     "text": [
      "0.3758553274682307\n",
      "0.4040066777963272\n"
     ]
    },
    {
     "name": "stderr",
     "output_type": "stream",
     "text": [
      "100%|██████████| 2042/2042 [00:11<00:00, 175.61it/s]\n"
     ]
    },
    {
     "name": "stdout",
     "output_type": "stream",
     "text": [
      "0.39882697947214074\n",
      "0.41569282136894825\n"
     ]
    },
    {
     "name": "stderr",
     "output_type": "stream",
     "text": [
      "100%|██████████| 2042/2042 [00:11<00:00, 177.05it/s]\n"
     ]
    },
    {
     "name": "stdout",
     "output_type": "stream",
     "text": [
      "0.41300097751710657\n",
      "0.41819699499165275\n"
     ]
    },
    {
     "name": "stderr",
     "output_type": "stream",
     "text": [
      "100%|██████████| 2042/2042 [00:11<00:00, 174.57it/s]\n"
     ]
    },
    {
     "name": "stdout",
     "output_type": "stream",
     "text": [
      "0.4046920821114369\n",
      "0.4290484140233723\n"
     ]
    },
    {
     "name": "stderr",
     "output_type": "stream",
     "text": [
      "100%|██████████| 2042/2042 [00:11<00:00, 174.75it/s]\n"
     ]
    },
    {
     "name": "stdout",
     "output_type": "stream",
     "text": [
      "0.39345063538611924\n",
      "0.41986644407345575\n"
     ]
    },
    {
     "name": "stderr",
     "output_type": "stream",
     "text": [
      "100%|██████████| 2042/2042 [00:11<00:00, 176.80it/s]\n"
     ]
    },
    {
     "name": "stdout",
     "output_type": "stream",
     "text": [
      "0.3866080156402737\n",
      "0.4015025041736227\n"
     ]
    },
    {
     "name": "stderr",
     "output_type": "stream",
     "text": [
      "100%|██████████| 2042/2042 [00:11<00:00, 177.04it/s]\n"
     ]
    },
    {
     "name": "stdout",
     "output_type": "stream",
     "text": [
      "0.3895405669599218\n",
      "0.41151919866444076\n"
     ]
    },
    {
     "name": "stderr",
     "output_type": "stream",
     "text": [
      "100%|██████████| 2042/2042 [00:11<00:00, 176.90it/s]\n"
     ]
    },
    {
     "name": "stdout",
     "output_type": "stream",
     "text": [
      "0.3807429130009775\n",
      "0.4023372287145242\n"
     ]
    },
    {
     "name": "stderr",
     "output_type": "stream",
     "text": [
      "100%|██████████| 2042/2042 [00:11<00:00, 179.19it/s]\n"
     ]
    },
    {
     "name": "stdout",
     "output_type": "stream",
     "text": [
      "0.4090909090909091\n",
      "0.4248747913188648\n"
     ]
    },
    {
     "name": "stderr",
     "output_type": "stream",
     "text": [
      "100%|██████████| 2042/2042 [00:11<00:00, 180.34it/s]\n"
     ]
    },
    {
     "name": "stdout",
     "output_type": "stream",
     "text": [
      "0.41886608015640275\n",
      "0.4257095158597663\n"
     ]
    },
    {
     "name": "stderr",
     "output_type": "stream",
     "text": [
      "100%|██████████| 2042/2042 [00:11<00:00, 228.14it/s]\n"
     ]
    },
    {
     "name": "stdout",
     "output_type": "stream",
     "text": [
      "0.38514173998044965\n",
      "0.3831385642737897\n"
     ]
    },
    {
     "name": "stderr",
     "output_type": "stream",
     "text": [
      "100%|██████████| 2042/2042 [00:11<00:00, 175.19it/s]\n"
     ]
    },
    {
     "name": "stdout",
     "output_type": "stream",
     "text": [
      "0.38807429130009774\n",
      "0.4048414023372287\n"
     ]
    },
    {
     "name": "stderr",
     "output_type": "stream",
     "text": [
      "100%|██████████| 2042/2042 [00:12<00:00, 165.05it/s]\n"
     ]
    },
    {
     "name": "stdout",
     "output_type": "stream",
     "text": [
      "0.39882697947214074\n",
      "0.4015025041736227\n"
     ]
    },
    {
     "name": "stderr",
     "output_type": "stream",
     "text": [
      "100%|██████████| 2042/2042 [00:12<00:00, 168.94it/s]\n"
     ]
    },
    {
     "name": "stdout",
     "output_type": "stream",
     "text": [
      "0.37976539589442815\n",
      "0.39148580968280466\n"
     ]
    },
    {
     "name": "stderr",
     "output_type": "stream",
     "text": [
      "100%|██████████| 2042/2042 [00:11<00:00, 171.75it/s]\n"
     ]
    },
    {
     "name": "stdout",
     "output_type": "stream",
     "text": [
      "0.416911045943304\n",
      "0.42153589315525875\n"
     ]
    },
    {
     "name": "stderr",
     "output_type": "stream",
     "text": [
      "100%|██████████| 2042/2042 [00:12<00:00, 167.77it/s]\n"
     ]
    },
    {
     "name": "stdout",
     "output_type": "stream",
     "text": [
      "0.37194525904203324\n",
      "0.38564273789649417\n"
     ]
    },
    {
     "name": "stderr",
     "output_type": "stream",
     "text": [
      "100%|██████████| 2042/2042 [00:12<00:00, 169.77it/s]\n"
     ]
    },
    {
     "name": "stdout",
     "output_type": "stream",
     "text": [
      "0.38025415444770283\n",
      "0.38731218697829717\n"
     ]
    },
    {
     "name": "stderr",
     "output_type": "stream",
     "text": [
      "100%|██████████| 2042/2042 [00:12<00:00, 162.52it/s]\n"
     ]
    },
    {
     "name": "stdout",
     "output_type": "stream",
     "text": [
      "0.4066471163245357\n",
      "0.41736227045075125\n"
     ]
    },
    {
     "name": "stderr",
     "output_type": "stream",
     "text": [
      "100%|██████████| 2042/2042 [00:12<00:00, 167.89it/s]\n"
     ]
    },
    {
     "name": "stdout",
     "output_type": "stream",
     "text": [
      "0.3919843597262952\n",
      "0.3998330550918197\n"
     ]
    },
    {
     "name": "stderr",
     "output_type": "stream",
     "text": [
      "100%|██████████| 2042/2042 [00:11<00:00, 173.71it/s]\n"
     ]
    },
    {
     "name": "stdout",
     "output_type": "stream",
     "text": [
      "0.43010752688172044\n",
      "0.4323873121869783\n"
     ]
    },
    {
     "name": "stderr",
     "output_type": "stream",
     "text": [
      "100%|██████████| 2042/2042 [00:12<00:00, 170.14it/s]\n"
     ]
    },
    {
     "name": "stdout",
     "output_type": "stream",
     "text": [
      "0.3973607038123167\n",
      "0.4023372287145242\n"
     ]
    },
    {
     "name": "stderr",
     "output_type": "stream",
     "text": [
      "100%|██████████| 2042/2042 [00:11<00:00, 176.45it/s]\n"
     ]
    },
    {
     "name": "stdout",
     "output_type": "stream",
     "text": [
      "0.39296187683284456\n",
      "0.3981636060100167\n"
     ]
    },
    {
     "name": "stderr",
     "output_type": "stream",
     "text": [
      "100%|██████████| 2042/2042 [00:11<00:00, 177.90it/s]\n"
     ]
    },
    {
     "name": "stdout",
     "output_type": "stream",
     "text": [
      "0.41300097751710657\n",
      "0.4065108514190317\n"
     ]
    },
    {
     "name": "stderr",
     "output_type": "stream",
     "text": [
      "100%|██████████| 2042/2042 [00:11<00:00, 174.79it/s]\n"
     ]
    },
    {
     "name": "stdout",
     "output_type": "stream",
     "text": [
      "0.4120234604105572\n",
      "0.4073455759599332\n"
     ]
    },
    {
     "name": "stderr",
     "output_type": "stream",
     "text": [
      "100%|██████████| 2042/2042 [00:11<00:00, 174.36it/s]\n"
     ]
    },
    {
     "name": "stdout",
     "output_type": "stream",
     "text": [
      "0.39051808406647115\n",
      "0.3998330550918197\n"
     ]
    },
    {
     "name": "stderr",
     "output_type": "stream",
     "text": [
      "100%|██████████| 2042/2042 [00:11<00:00, 170.93it/s]\n"
     ]
    },
    {
     "name": "stdout",
     "output_type": "stream",
     "text": [
      "0.37732160312805474\n",
      "0.3789649415692821\n"
     ]
    },
    {
     "name": "stderr",
     "output_type": "stream",
     "text": [
      "100%|██████████| 2042/2042 [00:11<00:00, 176.08it/s]\n"
     ]
    },
    {
     "name": "stdout",
     "output_type": "stream",
     "text": [
      "0.38514173998044965\n",
      "0.38981636060100167\n"
     ]
    },
    {
     "name": "stderr",
     "output_type": "stream",
     "text": [
      "100%|██████████| 2042/2042 [00:11<00:00, 174.04it/s]\n"
     ]
    },
    {
     "name": "stdout",
     "output_type": "stream",
     "text": [
      "0.37976539589442815\n",
      "0.3797996661101836\n"
     ]
    },
    {
     "name": "stderr",
     "output_type": "stream",
     "text": [
      "100%|██████████| 2042/2042 [00:11<00:00, 171.56it/s]\n"
     ]
    },
    {
     "name": "stdout",
     "output_type": "stream",
     "text": [
      "0.4125122189638319\n",
      "0.41235392320534225\n"
     ]
    },
    {
     "name": "stderr",
     "output_type": "stream",
     "text": [
      "100%|██████████| 2042/2042 [00:11<00:00, 180.74it/s]\n"
     ]
    },
    {
     "name": "stdout",
     "output_type": "stream",
     "text": [
      "0.39345063538611924\n",
      "0.39315525876460766\n"
     ]
    },
    {
     "name": "stderr",
     "output_type": "stream",
     "text": [
      "100%|██████████| 2042/2042 [00:11<00:00, 174.32it/s]\n"
     ]
    },
    {
     "name": "stdout",
     "output_type": "stream",
     "text": [
      "0.4046920821114369\n",
      "0.39565943238731216\n"
     ]
    },
    {
     "name": "stderr",
     "output_type": "stream",
     "text": [
      "100%|██████████| 2042/2042 [00:11<00:00, 174.20it/s]\n"
     ]
    },
    {
     "name": "stdout",
     "output_type": "stream",
     "text": [
      "0.4100684261974585\n",
      "0.4065108514190317\n"
     ]
    },
    {
     "name": "stderr",
     "output_type": "stream",
     "text": [
      "100%|██████████| 2042/2042 [00:12<00:00, 168.68it/s]\n"
     ]
    },
    {
     "name": "stdout",
     "output_type": "stream",
     "text": [
      "0.4051808406647116\n",
      "0.3973288814691152\n"
     ]
    },
    {
     "name": "stderr",
     "output_type": "stream",
     "text": [
      "100%|██████████| 2042/2042 [00:12<00:00, 164.46it/s]\n"
     ]
    },
    {
     "name": "stdout",
     "output_type": "stream",
     "text": [
      "0.39833822091886606\n",
      "0.38981636060100167\n"
     ]
    },
    {
     "name": "stderr",
     "output_type": "stream",
     "text": [
      "100%|██████████| 2042/2042 [00:12<00:00, 167.28it/s]\n"
     ]
    },
    {
     "name": "stdout",
     "output_type": "stream",
     "text": [
      "0.4032258064516129\n",
      "0.39148580968280466\n"
     ]
    },
    {
     "name": "stderr",
     "output_type": "stream",
     "text": [
      "100%|██████████| 2042/2042 [00:11<00:00, 215.39it/s]\n"
     ]
    },
    {
     "name": "stdout",
     "output_type": "stream",
     "text": [
      "0.4125122189638319\n",
      "0.40984974958263776\n"
     ]
    },
    {
     "name": "stderr",
     "output_type": "stream",
     "text": [
      "100%|██████████| 2042/2042 [00:11<00:00, 184.68it/s]\n"
     ]
    },
    {
     "name": "stdout",
     "output_type": "stream",
     "text": [
      "0.38758553274682306\n",
      "0.3806343906510851\n"
     ]
    },
    {
     "name": "stderr",
     "output_type": "stream",
     "text": [
      "100%|██████████| 2042/2042 [00:11<00:00, 182.71it/s]\n"
     ]
    },
    {
     "name": "stdout",
     "output_type": "stream",
     "text": [
      "0.38465298142717497\n",
      "0.39148580968280466\n"
     ]
    },
    {
     "name": "stderr",
     "output_type": "stream",
     "text": [
      "100%|██████████| 2042/2042 [00:10<00:00, 186.25it/s]\n"
     ]
    },
    {
     "name": "stdout",
     "output_type": "stream",
     "text": [
      "0.41837732160312807\n",
      "0.41068447412353926\n"
     ]
    },
    {
     "name": "stderr",
     "output_type": "stream",
     "text": [
      "100%|██████████| 2042/2042 [00:10<00:00, 187.77it/s]\n"
     ]
    },
    {
     "name": "stdout",
     "output_type": "stream",
     "text": [
      "0.3919843597262952\n",
      "0.38981636060100167\n"
     ]
    },
    {
     "name": "stderr",
     "output_type": "stream",
     "text": [
      "100%|██████████| 2042/2042 [00:11<00:00, 183.47it/s]\n"
     ]
    },
    {
     "name": "stdout",
     "output_type": "stream",
     "text": [
      "0.39882697947214074\n",
      "0.4040066777963272\n"
     ]
    },
    {
     "name": "stderr",
     "output_type": "stream",
     "text": [
      "100%|██████████| 2042/2042 [00:12<00:00, 163.58it/s]\n"
     ]
    },
    {
     "name": "stdout",
     "output_type": "stream",
     "text": [
      "0.3831867057673509\n",
      "0.39315525876460766\n"
     ]
    },
    {
     "name": "stderr",
     "output_type": "stream",
     "text": [
      "100%|██████████| 2042/2042 [00:13<00:00, 153.93it/s]\n"
     ]
    },
    {
     "name": "stdout",
     "output_type": "stream",
     "text": [
      "0.4100684261974585\n",
      "0.42320534223706174\n"
     ]
    },
    {
     "name": "stderr",
     "output_type": "stream",
     "text": [
      "100%|██████████| 2042/2042 [00:11<00:00, 179.07it/s]\n"
     ]
    },
    {
     "name": "stdout",
     "output_type": "stream",
     "text": [
      "0.39589442815249265\n",
      "0.38981636060100167\n"
     ]
    },
    {
     "name": "stderr",
     "output_type": "stream",
     "text": [
      "100%|██████████| 2042/2042 [00:11<00:00, 180.06it/s]\n"
     ]
    },
    {
     "name": "stdout",
     "output_type": "stream",
     "text": [
      "0.3924731182795699\n",
      "0.38898163606010017\n"
     ]
    },
    {
     "name": "stderr",
     "output_type": "stream",
     "text": [
      "100%|██████████| 2042/2042 [00:11<00:00, 181.85it/s]\n"
     ]
    },
    {
     "name": "stdout",
     "output_type": "stream",
     "text": [
      "0.41104594330400784\n",
      "0.4015025041736227\n"
     ]
    },
    {
     "name": "stderr",
     "output_type": "stream",
     "text": [
      "100%|██████████| 2042/2042 [00:11<00:00, 181.29it/s]\n"
     ]
    },
    {
     "name": "stdout",
     "output_type": "stream",
     "text": [
      "0.3919843597262952\n",
      "0.39232053422370616\n"
     ]
    },
    {
     "name": "stderr",
     "output_type": "stream",
     "text": [
      "100%|██████████| 2042/2042 [00:10<00:00, 187.19it/s]\n"
     ]
    },
    {
     "name": "stdout",
     "output_type": "stream",
     "text": [
      "0.40762463343108507\n",
      "0.4040066777963272\n"
     ]
    },
    {
     "name": "stderr",
     "output_type": "stream",
     "text": [
      "100%|██████████| 2042/2042 [00:11<00:00, 182.64it/s]\n"
     ]
    },
    {
     "name": "stdout",
     "output_type": "stream",
     "text": [
      "0.4237536656891496\n",
      "0.4248747913188648\n"
     ]
    },
    {
     "name": "stderr",
     "output_type": "stream",
     "text": [
      "100%|██████████| 2042/2042 [00:11<00:00, 178.85it/s]\n"
     ]
    },
    {
     "name": "stdout",
     "output_type": "stream",
     "text": [
      "0.4095796676441838\n",
      "0.41485809682804675\n"
     ]
    },
    {
     "data": {
      "image/png": "[encoded data removed]",
      "text/plain": [
       "<Figure size 432x288 with 100 Axes>"
      ]
     },
     "metadata": {
      "needs_background": "light"
     },
     "output_type": "display_data"
    }
   ],
   "source": [
    "import matplotlib.pyplot as plt\n",
    "loss_list=[]\n",
    "a1_list=[]\n",
    "a2_list=[]\n",
    "p1_list=[]\n",
    "p2_list=[]\n",
    "r1_list=[]\n",
    "r2_list=[]\n",
    "for epoch in range(EPOCH):\n",
    "    x = []#用于存放横坐标\n",
    "    t_loss = []#用于存放train_loss\n",
    "    x0=-1\n",
    "    for data in tqdm(train_data_loader):\n",
    "        # print(data)\n",
    "        x0=x0+1\n",
    "        api_input, api_label = data\n",
    "        \n",
    "        # print(api_label)\n",
    "        # print(api_input)\n",
    "\n",
    "        api_input = api_input.to(DEVICE)\n",
    "        api_label = api_label.to(DEVICE).to(dtype=torch.long)\n",
    "        rna_input = api_input[:,0:340]\n",
    "        protein_input = api_input[:,340:640]\n",
    "        rna_input = torch.unsqueeze(rna_input,dim=0)\n",
    "        protein_input = torch.unsqueeze(protein_input,dim=0)\n",
    "        # print(protein_input)\n",
    "        # api_label = torch.unsqueeze(api_label,dim=0)\n",
    "        # api_input= torch.unsqueeze(api_input,dim=0)\n",
    "        # api_input = api_input.to(dtype=torch.float32)\n",
    "        rna_input = rna_input.to(dtype=torch.float32)\n",
    "        protein_input = protein_input.to(dtype=torch.float32)\n",
    "        # output = Net(rna_input,protein_input)\n",
    "        output = Net(rna_input,protein_input)\n",
    "        # print(output.shape)\n",
    "        # print(api_label.shape)\n",
    "        # print(output)\n",
    "        # print(api_label)\n",
    "        optimizer.zero_grad()    \n",
    "        Loss = loss_fn(output, api_label)  \n",
    "        x.append(x0)\n",
    "        \n",
    "        # t_loss.append(Loss.detach().numpy())   \n",
    "        t_loss.append(Loss.item())  \n",
    "        Loss.backward()  \n",
    "\n",
    "        optimizer.step() \n",
    "    train_loss_lines = plt.plot(x, t_loss, 'r', lw=5)\n",
    "    loss_list.append(t_loss)\n",
    "    plt.subplot(10,10,epoch+1)\n",
    "    save_path = SAVE_MODEL_PATH+f'twoinput_batch1_Epoch={epoch}_lr={lr}.pth'\n",
    "    torch.save(Net, save_path)\n",
    "    a1,p1,r1=evaluate(SAVE_MODEL_PATH+f'twoinput_batch1_Epoch={epoch}_lr={lr}.pth',train_data_loader)\n",
    "    a2,p2,r2=evaluate(SAVE_MODEL_PATH+f'twoinput_batch1_Epoch={epoch}_lr={lr}.pth',test_data_loader)\n",
    "    a1_list.append(a1)\n",
    "    a2_list.append(a2)\n",
    "    p1_list.append(p1)\n",
    "    p2_list.append(p2)\n",
    "    r1_list.append(r1)\n",
    "    r2_list.append(r2)\n",
    "torch.save(Net, SAVE_MODEL_PATH+f'twoinput_batch1_Epoch={epoch}_lr={lr}_final.pth')"
   ]
  },
  {
   "cell_type": "code",
   "execution_count": 21,
   "metadata": {},
   "outputs": [],
   "source": [
    "\n",
    "np.savetxt('Z:/mlpcnnsemi/model/cnn/64/cnntwoiputbatch1lr0.0001/loss_list.txt',loss_list)\n",
    "np.savetxt('Z:/mlpcnnsemi/model/cnn/64/cnntwoiputbatch1lr0.0001/train_acc_list.txt',a1_list)\n",
    "np.savetxt('Z:/mlpcnnsemi/model/cnn/64/cnntwoiputbatch1lr0.0001/train_pre_list.txt',p1_list)\n",
    "np.savetxt('Z:/mlpcnnsemi/model/cnn/64/cnntwoiputbatch1lr0.0001/train_rec_list.txt',r1_list)\n",
    "np.savetxt('Z:/mlpcnnsemi/model/cnn/64/cnntwoiputbatch1lr0.0001/test_acc_list.txt',a2_list)\n",
    "np.savetxt('Z:/mlpcnnsemi/model/cnn/64/cnntwoiputbatch1lr0.0001/test_pre_list.txt',p2_list)\n",
    "np.savetxt('Z:/mlpcnnsemi/model/cnn/64/cnntwoiputbatch1lr0.0001/test_rec_list.txt',r2_list)\n"
   ]
  },
  {
   "cell_type": "code",
   "execution_count": 18,
   "metadata": {},
   "outputs": [
    {
     "name": "stdout",
     "output_type": "stream",
     "text": [
      "(100,)\n",
      "0.8632697947214076\n",
      "0.8713450292397661\n",
      "0.8571428571428571\n",
      "0.9111111111111111\n",
      "0.6129032258064516\n",
      "0.5872093023255814\n"
     ]
    }
   ],
   "source": [
    "import numpy as np\n",
    "c = np.loadtxt('Z:/mlpcnnsemi/model/cnn/82/cnnoneiputbatch1lr0.0001/train_acc_list.txt')\n",
    "d = np.loadtxt('Z:/mlpcnnsemi/model/cnn/82/cnnoneiputbatch1lr0.0001/test_acc_list.txt')\n",
    "pp1 = np.loadtxt('Z:/mlpcnnsemi/model/cnn/82/cnnoneiputbatch1lr0.0001/train_pre_list.txt')\n",
    "pp2 = np.loadtxt('Z:/mlpcnnsemi/model/cnn/82/cnnoneiputbatch1lr0.0001/test_pre_list.txt')\n",
    "rr1 = np.loadtxt('Z:/mlpcnnsemi/model/cnn/82/cnnoneiputbatch1lr0.0001/train_rec_list.txt')\n",
    "rr2 = np.loadtxt('Z:/mlpcnnsemi/model/cnn/82/cnnoneiputbatch1lr0.0001/test_rec_list.txt')\n",
    "l=np.loadtxt('Z:/mlpcnnsemi/model/cnn/82/cnnoneiputbatch1lr0.0001/loss_list.txt')\n",
    "l2=np.loadtxt('Z:/mlpcnnsemi/model/cnn/64/cnnoneiputbatch1lr0.0001/loss_list.txt')\n",
    "print(c.shape)\n",
    "print(max(c))\n",
    "print(max(d))\n",
    "print(max(pp1))\n",
    "print(max(pp2))\n",
    "print(max(rr1))\n",
    "print(max(rr2))"
   ]
  },
  {
   "cell_type": "code",
   "execution_count": 11,
   "metadata": {},
   "outputs": [
    {
     "data": {
      "image/png": "[encoded data removed]",
      "text/plain": [
       "<Figure size 432x288 with 1 Axes>"
      ]
     },
     "metadata": {
      "needs_background": "light"
     },
     "output_type": "display_data"
    }
   ],
   "source": [
    "import matplotlib.pyplot as plt\n",
    "x=np.linspace(0,100,100)\n",
    "\n",
    "experiment = plt.plot(x, c, 'b', lw=1,label=\"train_accuracy\")\n",
    "experiment2 = plt.plot(x, d, 'r', lw=1,label=\"test_accuracy\")\n",
    "plt.xlabel(\"epoch\") #设置X轴的文字\n",
    "plt.ylabel(\"accuracy /%\")\n",
    "plt.title('CNN')\n",
    "plt.legend(loc=0)\n",
    "plt.savefig(\"fig5-1.pdf\")"
   ]
  },
  {
   "cell_type": "code",
   "execution_count": 15,
   "metadata": {},
   "outputs": [
    {
     "data": {
      "image/png": "[encoded data removed]",
      "text/plain": [
       "<Figure size 432x288 with 1 Axes>"
      ]
     },
     "metadata": {
      "needs_background": "light"
     },
     "output_type": "display_data"
    }
   ],
   "source": [
    "# \n",
    "x=np.linspace(0,100,100)\n",
    "\n",
    "experiment = plt.plot(x, pp1, 'y', lw=1,label=\"train_precise\")\n",
    "experiment2 = plt.plot(x, pp2, 'g', lw=1,label=\"test_precise\")\n",
    "plt.xlabel(\"epoch\") #设置X轴的文字\n",
    "plt.ylabel(\"precise /%\")\n",
    "plt.title('CNN')\n",
    "plt.legend(loc=0)\n",
    "plt.savefig(\"fig5-2.pdf\")"
   ]
  },
  {
   "cell_type": "code",
   "execution_count": 16,
   "metadata": {},
   "outputs": [
    {
     "data": {
      "image/png": "[encoded data removed]",
      "text/plain": [
       "<Figure size 432x288 with 1 Axes>"
      ]
     },
     "metadata": {
      "needs_background": "light"
     },
     "output_type": "display_data"
    }
   ],
   "source": [
    "# recall\n",
    "x=np.linspace(0,100,100)\n",
    "\n",
    "experiment = plt.plot(x, rr1, 'y', lw=1,label=\"train_recall\")\n",
    "experiment2 = plt.plot(x, rr2, 'g', lw=1,label=\"test_recall\")\n",
    "plt.xlabel(\"epoch\") #设置X轴的文字\n",
    "plt.ylabel(\"recall /%\")\n",
    "plt.title('CNN')\n",
    "plt.legend(loc=0)\n",
    "plt.savefig(\"fig5-3.pdf\")"
   ]
  },
  {
   "cell_type": "code",
   "execution_count": 19,
   "metadata": {},
   "outputs": [
    {
     "data": {
      "image/png": "[encoded data removed]",
      "text/plain": [
       "<Figure size 432x288 with 1 Axes>"
      ]
     },
     "metadata": {
      "needs_background": "light"
     },
     "output_type": "display_data"
    }
   ],
   "source": [
    "loss_avg=[]\n",
    "loss_avg2=[]\n",
    "for i in range(100):\n",
    "    loss_avg.append(l[i].mean())\n",
    "    loss_avg2.append(l2[i].mean())\n",
    "x=np.linspace(0,100,100)\n",
    "\n",
    "experiment = plt.plot(x, loss_avg, 'y', lw=1,label=\"train_loss 8:2\")\n",
    "experiment2 = plt.plot(x, loss_avg2, 'g', lw=1,label=\"train_loss 6:4\")\n",
    "\n",
    "plt.xlabel(\"epoch\") #设置X轴的文字\n",
    "plt.ylabel(\"loss /%\")\n",
    "plt.title('CNN')\n",
    "plt.legend(loc=0)\n",
    "plt.savefig(\"fig5-4.pdf\")"
   ]
  },
  {
   "cell_type": "code",
   "execution_count": 5,
   "metadata": {},
   "outputs": [],
   "source": [
    "import numpy as np\n",
    "import matplotlib.pyplot as plt\n",
    "# l=np.loadtxt('Z:/mlpcnnsemi/model/cnn/82/cnnoneiputbatch1lr0.0001/loss_list.txt')\n",
    "l2=np.loadtxt('Z:/mlpcnnsemi/model/cnn/64/cnntwoiputbatch1lr0.0001/loss_list.txt')\n",
    "loss_avg=[]\n",
    "loss_avg2=[]\n",
    "for i in range(100):\n",
    "    # loss_avg.append(l[i].mean())\n",
    "    loss_avg2.append(l2[i].mean())\n",
    "x=np.linspace(0,100,100)\n",
    "\n",
    "# experiment = plt.plot(x, loss_avg, 'y', lw=1,label=\"train_loss 8:2\")\n",
    "experiment2 = plt.plot(x, loss_avg2, 'g', lw=1,label=\"train_loss 6:4\")\n",
    "\n",
    "plt.xlabel(\"epoch\") #设置X轴的文字\n",
    "plt.ylabel(\"loss /%\")\n",
    "plt.title('CNN')\n",
    "plt.legend(loc=0)\n",
    "plt.savefig(\"fig6loss.pdf\")\n",
    "# x=np.linspace(0,2724,2724)\n",
    "# plt.figure(figsize=(5, 4))\n",
    "# for i in range (5):\n",
    "#     plt.subplot(2,3,i+1)\n",
    "    \n",
    "#     experiment = plt.plot(x, l[i*20], 'r', lw=2)\n",
    "\n",
    "#     plt.xlabel(\"samples\") #设置X轴的文字\n",
    "#     plt.ylabel(\"loss /%\")\n",
    "#     plt.title('CNN_'+'epoch_'+str(i*20))\n",
    "\n",
    "# plt.subplot(2,3,6)\n",
    "\n",
    "# experiment = plt.plot(x, l[99], 'r', lw=2)\n",
    "\n",
    "# plt.xlabel(\"samples\") #设置X轴的文字\n",
    "# plt.ylabel(\"loss /%\")\n",
    "# plt.title('CNN_'+'epoch_'+'99')\n",
    "\n",
    "# plt.tight_layout(h_pad=2)"
   ]
  },
  {
   "cell_type": "code",
   "execution_count": null,
   "metadata": {},
   "outputs": [],
   "source": [
    "#double input\n",
    "import numpy as np\n",
    "\n",
    "import torch\n",
    "import torch.nn as nn\n",
    "import torch.nn.functional as F\n",
    "import torch.optim as optim\n",
    "\n",
    "class NeuralNet(nn.Module):\n",
    "    def __init__(self, lrate = 0.001, loss_fn = nn.CrossEntropyLoss()):\n",
    "        super(NeuralNet, self).__init__()\n",
    "\n",
    "\n",
    "        self.conv1 = nn.Sequential(nn.Conv1d(1,8,kernel_size=1),\n",
    "                                   nn.BatchNorm1d(8),\n",
    "                                   nn.LeakyReLU()\n",
    "        )\n",
    "        self.conv2 = nn.Sequential(nn.Conv1d(8,16,kernel_size=1),\n",
    "                                   nn.BatchNorm1d(16),\n",
    "                                   nn.LeakyReLU()\n",
    "        )\n",
    "        self.conv3 = nn.Sequential(nn.Conv1d(1,8,kernel_size=3,stride=2),\n",
    "                                   nn.BatchNorm1d(8),\n",
    "                                   nn.LeakyReLU()\n",
    "        )\n",
    "        self.conv4 = nn.Sequential(nn.Conv1d(8,16,kernel_size=3,stride=2),\n",
    "                                   nn.BatchNorm1d(16),\n",
    "                                   nn.LeakyReLU()\n",
    "        )\n",
    "\n",
    "        self.conv5 = nn.Sequential(nn.Conv1d(16,8,kernel_size=3,stride=2),\n",
    "                                   nn.BatchNorm1d(8),\n",
    "                                   nn.MaxPool1d(kernel_size=2),\n",
    "                                   nn.LeakyReLU()\n",
    "        )\n",
    "        self.conv6 = nn.Sequential(nn.Conv1d(8,1,kernel_size=3,stride=2),\n",
    "                                   nn.BatchNorm1d(1),\n",
    "                                   nn.MaxPool1d(kernel_size=2),\n",
    "                                   nn.LeakyReLU()\n",
    "        )\n",
    "\n",
    "        self.conv7 = nn.Linear(25,10)\n",
    "        self.conv8 = nn.Linear(10,2)\n",
    "\n",
    "        # self.conv1=nn.Conv1d(1, 1, kernel_size=3, stride=1, padding=0, dilation=1, groups=1, bias=True)\n",
    "        # self.batchnorm=nn.BatchNorm1d(num_features=1),\n",
    "        # self.Relu=nn.ReLU()\n",
    "        # self.pool=nn.MaxPool1d(kernel_size=3)\n",
    "        # self.fc1=nn.Linear(64*4*4, 64)\n",
    "        # self.dropout=nn.Dropout()\n",
    "        # self.fc2 = nn.Linear(64, 10)\n",
    "\n",
    "        self.loss_fn = loss_fn\n",
    "        self.lrate=lrate        \n",
    "        self.optimizer=optim.SGD(self.parameters(),self.lrate,momentum=0.9)\n",
    "    def forward(self, rna, protein):\n",
    "        \"\"\"Performs a forward pass through your neural net (evaluates f(x)).\n",
    "\n",
    "        @param x: an (N, in_size) Tensor\n",
    "        @return y: an (N, out_size) Tensor of output from the network\n",
    "        \"\"\"\n",
    "        '''\n",
    "        extractor for protein \n",
    "        '''\n",
    "        \n",
    "        rna = self.conv1(rna)\n",
    "        rna = self.conv2(rna)\n",
    "\n",
    "        protein = self.conv3(protein)\n",
    "        \n",
    "        protein = self.conv4(protein)\n",
    "\n",
    "        x = torch.cat((rna,protein),dim=2)\n",
    "        x = self.conv5(x)\n",
    "        x = self.conv6(x)\n",
    "        # print(x.shape)\n",
    "        x = self.conv7(x)\n",
    "        x = self.conv8(x)\n",
    "        x = torch.squeeze(x,dim=0)\n",
    "        return x"
   ]
  },
  {
   "cell_type": "code",
   "execution_count": 20,
   "metadata": {},
   "outputs": [],
   "source": [
    "def evaluate(model_path,test_data_loader,device=DEVICE):\n",
    "    count=0\n",
    "    acc = 0\n",
    "    model = torch.load(model_path)\n",
    "    for idx, data in enumerate(test_data_loader):\n",
    "        api_input, api_label = data\n",
    "        count+=1\n",
    "        rna_input = api_input[:,1:341]\n",
    "        protein_input = api_input[:,341:641]\n",
    "        rna_input = torch.unsqueeze(rna_input,dim=0)\n",
    "        protein_input = torch.unsqueeze(protein_input,dim=0)\n",
    "        #api_label = torch.unsqueeze(api_label,dim=0)\n",
    "        rna_input = rna_input.to(dtype=torch.float32).to(DEVICE)\n",
    "        protein_input = protein_input.to(dtype=torch.float32).to(DEVICE)\n",
    "        output = model(rna_input,protein_input).to(DEVICE)\n",
    "        if(torch.argmax(output)==api_label[0]):\n",
    "            acc+=1\n",
    "\n",
    "    \n",
    "    print(acc/count)"
   ]
  },
  {
   "cell_type": "code",
   "execution_count": 28,
   "metadata": {},
   "outputs": [
    {
     "name": "stderr",
     "output_type": "stream",
     "text": [
      "100%|██████████| 3404/3404 [00:19<00:00, 172.29it/s]\n"
     ]
    },
    {
     "name": "stdout",
     "output_type": "stream",
     "text": [
      "0.749412455934195\n"
     ]
    },
    {
     "name": "stderr",
     "output_type": "stream",
     "text": [
      "100%|██████████| 3404/3404 [00:25<00:00, 133.64it/s]\n"
     ]
    },
    {
     "name": "stdout",
     "output_type": "stream",
     "text": [
      "0.7071092831962397\n"
     ]
    },
    {
     "name": "stderr",
     "output_type": "stream",
     "text": [
      "100%|██████████| 3404/3404 [00:23<00:00, 145.42it/s]\n"
     ]
    },
    {
     "name": "stdout",
     "output_type": "stream",
     "text": [
      "0.6762632197414806\n"
     ]
    },
    {
     "name": "stderr",
     "output_type": "stream",
     "text": [
      "100%|██████████| 3404/3404 [00:23<00:00, 141.89it/s]\n"
     ]
    },
    {
     "name": "stdout",
     "output_type": "stream",
     "text": [
      "0.6891891891891891\n"
     ]
    },
    {
     "name": "stderr",
     "output_type": "stream",
     "text": [
      "100%|██████████| 3404/3404 [00:23<00:00, 143.68it/s]\n"
     ]
    },
    {
     "name": "stdout",
     "output_type": "stream",
     "text": [
      "0.6527614571092832\n",
      "CSX\n"
     ]
    },
    {
     "data": {
      "image/png": "[encoded data removed]",
      "text/plain": [
       "<Figure size 432x288 with 1 Axes>"
      ]
     },
     "metadata": {
      "needs_background": "light"
     },
     "output_type": "display_data"
    }
   ],
   "source": [
    "#double input\n",
    "import matplotlib.pyplot as plt\n",
    "for epoch in range(EPOCH):\n",
    "    x = []#用于存放横坐标\n",
    "    t_loss = []#用于存放train_loss\n",
    "    x0=-1\n",
    "    for data in tqdm(train_data_loader):\n",
    "        x0=x0+1\n",
    "        api_input, api_label = data\n",
    "        \n",
    "        # print(api_label)\n",
    "        # print(api_input.shape)\n",
    "\n",
    "        api_input = api_input.to(DEVICE)\n",
    "        api_label = api_label.to(DEVICE).to(dtype=torch.long)\n",
    "        rna_input = api_input[:,0:340]\n",
    "        protein_input = api_input[:,340:640]\n",
    "        rna_input = torch.unsqueeze(rna_input,dim=0)\n",
    "        protein_input = torch.unsqueeze(protein_input,dim=0)\n",
    "        # print(protein_input)\n",
    "        # api_label = torch.unsqueeze(api_label,dim=0)\n",
    "        \n",
    "        rna_input = rna_input.to(dtype=torch.float32)\n",
    "        protein_input = protein_input.to(dtype=torch.float32)\n",
    "        output = Net(rna_input,protein_input)\n",
    "\n",
    "        # print(output.shape)\n",
    "        # print(api_label.shape)\n",
    "        # print(output)\n",
    "        # print(api_label)\n",
    "        optimizer.zero_grad()    \n",
    "        Loss = loss_fn(output, api_label)  \n",
    "        x.append(x0)\n",
    "        t_loss.append(Loss.detach().numpy())        \n",
    "        Loss.backward()  \n",
    "\n",
    "        optimizer.step() \n",
    "    train_loss_lines = plt.plot(x, t_loss, 'r', lw=5)\n",
    "    save_path = SAVE_MODEL_PATH+f'twoinput_Epoch={epoch}_lr={lr}.pth'\n",
    "    torch.save(Net, save_path)\n",
    "    evaluate(SAVE_MODEL_PATH+f'twoinput_Epoch={epoch}_lr={lr}.pth',test_data_loader)\n",
    "    \n",
    "torch.save(Net, SAVE_MODEL_PATH+f'twoinput_Epoch={epoch}_lr={lr}_final.pth')\n",
    "print('CSX')"
   ]
  },
  {
   "cell_type": "code",
   "execution_count": 29,
   "metadata": {},
   "outputs": [],
   "source": []
  },
  {
   "cell_type": "code",
   "execution_count": 18,
   "metadata": {},
   "outputs": [],
   "source": []
  }
 ],
 "metadata": {
  "kernelspec": {
   "display_name": "Python 3.7.3 ('base')",
   "language": "python",
   "name": "python3"
  },
  "language_info": {
   "codemirror_mode": {
    "name": "ipython",
    "version": 3
   },
   "file_extension": ".py",
   "mimetype": "text/x-python",
   "name": "python",
   "nbconvert_exporter": "python",
   "pygments_lexer": "ipython3",
   "version": "3.7.3"
  },
  "orig_nbformat": 4,
  "vscode": {
   "interpreter": {
    "hash": "ad2bdc8ecc057115af97d19610ffacc2b4e99fae6737bb82f5d7fb13d2f2c186"
   }
  }
 },
 "nbformat": 4,
 "nbformat_minor": 2
}
